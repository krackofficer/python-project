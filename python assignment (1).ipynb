{
 "cells": [
  {
   "cell_type": "markdown",
   "id": "71a28e77-0f78-465c-a1d4-b99c21d890bc",
   "metadata": {},
   "source": [
    "###python assignment 1"
   ]
  },
  {
   "cell_type": "markdown",
   "id": "5848be12-bbef-4154-9166-038d305b1851",
   "metadata": {
    "tags": []
   },
   "source": [
    "#Explain the key features of Python that make it a popular choice for programming ?  \n",
    "\n",
    "\n",
    "\n"
   ]
  },
  {
   "cell_type": "markdown",
   "id": "09be69cd-21ca-4bdc-8b20-507acb3cefcb",
   "metadata": {
    "tags": []
   },
   "source": [
    "# Key Features of Python\n",
    "\n",
    "# 1. Easy to Learn and Readable Syntax\n",
    "# Python's clean and straightforward syntax makes it beginner-friendly.\n",
    "# Indentation is used for code blocks, enhancing readability.\n",
    "\n",
    "# 2. Free and Open Source\n",
    "# Python is freely available and open source—no licensing fees!\n",
    "\n",
    "# 3. Large Standard Library\n",
    "# Python's extensive standard library includes modules for various tasks.\n",
    "# Modules like itertools, functools, and operator save development time.\n",
    "\n",
    "# 4. Cross-Platform Compatibility\n",
    "# Write Python code once, run it on Windows, macOS, or Linux.\n",
    "\n",
    "# 5. Dynamic Typing and Duck Typing\n",
    "# Variables don't need explicit type declarations.\n",
    "# Duck typing evaluates objects based on behavior, not strict types.\n",
    "\n",
    "# 6. Object-Oriented and Functional Programming\n",
    "# Python supports both paradigms: classes, inheritance, and functional concepts.\n",
    "\n",
    "# 7. Rich Ecosystem and Libraries\n",
    "# NumPy (numerical computing), Pandas (data manipulation), Matplotlib (data viz), and more.\n",
    "\n",
    "# 8. Community and Support\n",
    "# Active Python community with abundant tutorials and resources.\n",
    "\n",
    "# 9. Embeddable and Extensible\n",
    "# Embed Python in other languages or extend it using C/C++.\n",
    "\n",
    "# 10. Scalability and Performance\n",
    "# Python's performance is sufficient for most tasks.\n",
    "# Optimize critical sections using libraries like Numba or Cython.\n",
    "\n",
    "# In summary, Python's simplicity, versatility, and community support make it a favorite!\n",
    "\n",
    "\n"
   ]
  },
  {
   "cell_type": "markdown",
   "id": "97779d6f-4f88-4efe-88f9-7fba27ced59d",
   "metadata": {},
   "source": [
    "#Describe the role of predefined keywords in Python and provide examples of how they are used in a program ?"
   ]
  },
  {
   "cell_type": "markdown",
   "id": "c1006cf4-eaaa-44db-9cf3-e32f14bd5892",
   "metadata": {},
   "source": [
    "#Certainly! Let’s unravel the mystery of Python keywords—the magical words that give structure and meaning to your code.\n",
    "\n",
    "# What Are Python Keywords?\n",
    "\n",
    "#Keywords are predefined, reserved words in Python that have special meanings to the compiler.\n",
    "#You cannot use a keyword as a variable name, function name, or any other identifier.\n",
    "# Why Are They Important?\n",
    "\n",
    "#Keywords define the syntax and structure of the Python language.\n",
    "#They guide how your code is interpreted and executed.\n",
    " \n",
    "\n"
   ]
  },
  {
   "cell_type": "code",
   "execution_count": 12,
   "id": "a93b0404-0c26-4ceb-8030-abb68076b765",
   "metadata": {},
   "outputs": [
    {
     "name": "stdout",
     "output_type": "stream",
     "text": [
      "\n",
      "Here is a list of the Python keywords.  Enter any keyword to get more help.\n",
      "\n",
      "False               class               from                or\n",
      "None                continue            global              pass\n",
      "True                def                 if                  raise\n",
      "and                 del                 import              return\n",
      "as                  elif                in                  try\n",
      "assert              else                is                  while\n",
      "async               except              lambda              with\n",
      "await               finally             nonlocal            yield\n",
      "break               for                 not                 \n",
      "\n"
     ]
    }
   ],
   "source": [
    "help (\"keywords\")  #few keywords "
   ]
  },
  {
   "cell_type": "markdown",
   "id": "1a0eb408-075a-4c03-8bab-7920fdf04c63",
   "metadata": {},
   "source": [
    "###Examples of Python Keywords:\n",
    "\n",
    "#Here are some essential Python keywords along with their roles and #examples:\n",
    "#if, elif, else:\n",
    "#Used for conditional statements.\n",
    "#Example:\n"
   ]
  },
  {
   "cell_type": "code",
   "execution_count": 2,
   "id": "ed0688f5-665a-470f-9ef4-6cef5cdf2d8e",
   "metadata": {},
   "outputs": [
    {
     "name": "stdout",
     "output_type": "stream",
     "text": [
      "You're an adult.\n"
     ]
    }
   ],
   "source": [
    "age = 25\n",
    "if age < 18:\n",
    "    print(\"You're a minor.\")\n",
    "elif age >= 18:\n",
    "    print(\"You're an adult.\")\n",
    "else:\n",
    "    print(\"Something went wrong.\")\n"
   ]
  },
  {
   "cell_type": "markdown",
   "id": "c770ee84-52ec-432c-8e98-e335f9e8b1da",
   "metadata": {},
   "source": [
    "#for, while:\n",
    "Used for loops (iteration).\n",
    "Example:"
   ]
  },
  {
   "cell_type": "code",
   "execution_count": 5,
   "id": "b4bc8904-5158-417f-9054-b06e6b6774cc",
   "metadata": {},
   "outputs": [
    {
     "name": "stdout",
     "output_type": "stream",
     "text": [
      "0\n",
      "1\n",
      "2\n",
      "3\n",
      "4\n"
     ]
    }
   ],
   "source": [
    "for i in range(5):\n",
    "    print(i)\n"
   ]
  },
  {
   "cell_type": "markdown",
   "id": "e9522d58-ba48-4104-b11b-f7c1821ebebd",
   "metadata": {},
   "source": [
    "#def, return:\n",
    "Used for defining functions and returning values.\n",
    "Example:"
   ]
  },
  {
   "cell_type": "code",
   "execution_count": 7,
   "id": "b89297c4-b155-46b6-a584-3db86761096b",
   "metadata": {},
   "outputs": [
    {
     "name": "stdout",
     "output_type": "stream",
     "text": [
      "Hello, krackofficer!\n"
     ]
    }
   ],
   "source": [
    "def greet(name):\n",
    "    return f\"Hello, {name}!\"\n",
    "\n",
    "print(greet(\"krackofficer\"))\n"
   ]
  },
  {
   "cell_type": "markdown",
   "id": "b45c996e-a734-4f5a-9256-5e84088399f6",
   "metadata": {},
   "source": [
    "#True, False:\n",
    "Boolean values (representing truth or falsehood).\n",
    "Example:"
   ]
  },
  {
   "cell_type": "code",
   "execution_count": 8,
   "id": "0992c156-579a-4345-be5f-33261df5e1a7",
   "metadata": {},
   "outputs": [
    {
     "name": "stdout",
     "output_type": "stream",
     "text": [
      "Enjoy the sunshine!\n"
     ]
    }
   ],
   "source": [
    "is_sunny = True\n",
    "if is_sunny:\n",
    "    print(\"Enjoy the sunshine!\")\n"
   ]
  },
  {
   "cell_type": "markdown",
   "id": "70c397c0-b59f-49e7-ae6e-840686f5a99b",
   "metadata": {},
   "source": [
    "#and, or, not:\n",
    "Logical operators.\n",
    "Example:"
   ]
  },
  {
   "cell_type": "code",
   "execution_count": 10,
   "id": "dbf2aba6-c92f-48ff-a266-2bf8d6ffae66",
   "metadata": {},
   "outputs": [
    {
     "name": "stdout",
     "output_type": "stream",
     "text": [
      "Both conditions are true.\n"
     ]
    }
   ],
   "source": [
    "x = 10\n",
    "y = 20\n",
    "if x > 0 and y < 30:\n",
    "    print(\"Both conditions are true.\")\n"
   ]
  },
  {
   "cell_type": "markdown",
   "id": "e3732821-1bdd-4f05-835c-eb602d01b76e",
   "metadata": {},
   "source": [
    "#Compare and contrast mutable and immutable objects in Python with examples?        "
   ]
  },
  {
   "cell_type": "markdown",
   "id": "2b7e1b38-a878-4191-a6d1-f2cdd7ca20bc",
   "metadata": {},
   "source": [
    "#Mutable Objects:\n",
    "\n",
    "#Mutable objects can be modified after creation. You can change their #state or content.\n",
    "#Examples of mutable objects:\n",
    "#Lists (list)\n",
    "#Dictionaries (dict)\n",
    "#Sets (set)\n",
    "#Custom classes (if designed to be mutable)"
   ]
  },
  {
   "cell_type": "code",
   "execution_count": 13,
   "id": "2087cb78-73b5-473c-aead-99d4119c2b46",
   "metadata": {},
   "outputs": [
    {
     "data": {
      "text/plain": [
       "[1, 5, 7, 'krackofficer', 'ARVIND', 'PWskills']"
      ]
     },
     "execution_count": 13,
     "metadata": {},
     "output_type": "execute_result"
    }
   ],
   "source": [
    "#list \n",
    "list_cont = [1,5,7,\"krackofficer\",\"ARVIND\",\"PWskills\"]\n",
    "list_cont"
   ]
  },
  {
   "cell_type": "code",
   "execution_count": 14,
   "id": "56d7d981-665e-4c27-979e-c72fb57133d9",
   "metadata": {},
   "outputs": [],
   "source": [
    "#wants to change any one of the object\n",
    "#mutability\n",
    "list_cont [4] = \"bahadur shah jafar \" \n"
   ]
  },
  {
   "cell_type": "code",
   "execution_count": 15,
   "id": "fff4bff7-6633-4e31-8597-b5a6c2c1f042",
   "metadata": {},
   "outputs": [
    {
     "data": {
      "text/plain": [
       "[1, 5, 7, 'krackofficer', 'bahadur shah jafar ', 'PWskills']"
      ]
     },
     "execution_count": 15,
     "metadata": {},
     "output_type": "execute_result"
    }
   ],
   "source": [
    "list_cont"
   ]
  },
  {
   "cell_type": "markdown",
   "id": "04ea78c3-f2fa-4a51-97bf-88ede94f9f86",
   "metadata": {},
   "source": [
    "#Immutable Objects:\n",
    "\n",
    "#Immutable objects cannot be changed after creation. Once you create #them, their state remains fixed.\n",
    "#Examples of immutable objects:\n",
    "#Integers (int)\n",
    "#Floating-point numbers (float)\n",
    "#Strings (str)\n",
    "#Tuples (tuple)\n",
    "#Frozensets (frozenset)"
   ]
  },
  {
   "cell_type": "code",
   "execution_count": 17,
   "id": "c51d1392-1a41-4fc1-a513-0fd614a09c5a",
   "metadata": {},
   "outputs": [
    {
     "data": {
      "text/plain": [
       "'kracofficer'"
      ]
     },
     "execution_count": 17,
     "metadata": {},
     "output_type": "execute_result"
    }
   ],
   "source": [
    "b =\"kracofficer\"\n",
    "b"
   ]
  },
  {
   "cell_type": "code",
   "execution_count": 18,
   "id": "75a04d8a-9a97-45ae-8090-7977fff6935f",
   "metadata": {},
   "outputs": [
    {
     "ename": "TypeError",
     "evalue": "'str' object does not support item assignment",
     "output_type": "error",
     "traceback": [
      "\u001b[0;31m---------------------------------------------------------------------------\u001b[0m",
      "\u001b[0;31mTypeError\u001b[0m                                 Traceback (most recent call last)",
      "Cell \u001b[0;32mIn[18], line 1\u001b[0m\n\u001b[0;32m----> 1\u001b[0m \u001b[43mb\u001b[49m\u001b[43m[\u001b[49m\u001b[38;5;241;43m0\u001b[39;49m\u001b[43m]\u001b[49m \u001b[38;5;241m=\u001b[39m \u001b[38;5;124m\"\u001b[39m\u001b[38;5;124mM\u001b[39m\u001b[38;5;124m\"\u001b[39m\n",
      "\u001b[0;31mTypeError\u001b[0m: 'str' object does not support item assignment"
     ]
    }
   ],
   "source": [
    "b[0] = \"M\" #shows error as it is immutable"
   ]
  },
  {
   "cell_type": "markdown",
   "id": "150767ab-172c-4757-94ce-26ef86052e7f",
   "metadata": {},
   "source": [
    "#Discuss the different types of operators in Python and provide examples of how they are used?"
   ]
  },
  {
   "cell_type": "markdown",
   "id": "b6f97b44-87a2-44b1-a533-117440e0ebff",
   "metadata": {},
   "source": [
    "#special keywords/symbols which are used to perform operation on values #and symbols to manage , computation & make decision using data."
   ]
  },
  {
   "cell_type": "markdown",
   "id": "56b83a95-e832-47d1-98fc-dff97be7a214",
   "metadata": {},
   "source": [
    "#arithmetic operators\n",
    " \n",
    "\n",
    "#These operators perform mathematical operations.\n",
    "#Examples:"
   ]
  },
  {
   "cell_type": "code",
   "execution_count": 20,
   "id": "2c227349-02b8-4fd4-ad8e-3915c53d1fb5",
   "metadata": {},
   "outputs": [
    {
     "name": "stdout",
     "output_type": "stream",
     "text": [
      "7\n",
      "3\n",
      "10\n",
      "2.5\n",
      "2\n",
      "1\n",
      "25\n"
     ]
    }
   ],
   "source": [
    "a = 5\n",
    "b = 2\n",
    "print(a + b)  # Addition\n",
    "print(a - b)  # Subtraction\n",
    "print(a * b)  # Multiplication\n",
    "print(a / b)  # Division\n",
    "print(a // b)  # Floor Division\n",
    "print(a % b)  # Modulo\n",
    "print(a ** b)  # Exponentiation\n"
   ]
  },
  {
   "cell_type": "markdown",
   "id": "304abac2-99e4-493e-b314-8936e9dec20e",
   "metadata": {},
   "source": [
    "#Comparison Operators:\n",
    "\n",
    "#Compare two values and return True or False.\n",
    "#Examples"
   ]
  },
  {
   "cell_type": "code",
   "execution_count": 22,
   "id": "992664ed-54b1-495b-ad3a-278bfca1db27",
   "metadata": {},
   "outputs": [
    {
     "name": "stdout",
     "output_type": "stream",
     "text": [
      "True\n",
      "True\n"
     ]
    }
   ],
   "source": [
    "a = 5\n",
    "b = 2\n",
    "print(a > b)  # Greater than\n",
    "print(a != b)  # Not equal to\n"
   ]
  },
  {
   "cell_type": "markdown",
   "id": "212cbfa9-9ff5-400c-9e2d-261873fec887",
   "metadata": {},
   "source": [
    "#Logical Operators:\n",
    "\n",
    "Used for logical operations (AND, OR, NOT).\n",
    "Examples"
   ]
  },
  {
   "cell_type": "code",
   "execution_count": 24,
   "id": "13c6a3ca-2f6d-4fdb-b73c-444713bf2025",
   "metadata": {},
   "outputs": [
    {
     "name": "stdout",
     "output_type": "stream",
     "text": [
      "False\n",
      "True\n",
      "False\n"
     ]
    }
   ],
   "source": [
    "p = True\n",
    "q = False\n",
    "print(p and q)  # Logical AND\n",
    "print(p or q)  # Logical OR\n",
    "print(not p)  # Logical NOT\n"
   ]
  },
  {
   "cell_type": "markdown",
   "id": "d7bde9d0-3068-4e16-813c-c6e84295bc97",
   "metadata": {},
   "source": [
    "# Assignment Operators:\n",
    "\n",
    "Used to assign values to variables.\n",
    "Examples"
   ]
  },
  {
   "cell_type": "code",
   "execution_count": 28,
   "id": "12780d91-1b27-4d9d-ac64-3773037b2d76",
   "metadata": {},
   "outputs": [],
   "source": [
    "x = 5\n",
    "x += 2  # Equivalent to x = x + 2\n",
    "x -= 3\n",
    "x *= 4\n",
    "x /= 3\n",
    "x %= 10\n",
    "x **= 10\n"
   ]
  },
  {
   "cell_type": "code",
   "execution_count": 29,
   "id": "3585b4ab-703a-4526-8620-23727333baf6",
   "metadata": {},
   "outputs": [
    {
     "data": {
      "text/plain": [
       "11"
      ]
     },
     "execution_count": 29,
     "metadata": {},
     "output_type": "execute_result"
    }
   ],
   "source": [
    "b = 5\n",
    "b += 6\n",
    "b\n"
   ]
  },
  {
   "cell_type": "code",
   "execution_count": 31,
   "id": "6acad1ee-e0f7-420c-b25f-bb02e0f5d6d7",
   "metadata": {},
   "outputs": [
    {
     "data": {
      "text/plain": [
       "9765625"
      ]
     },
     "execution_count": 31,
     "metadata": {},
     "output_type": "execute_result"
    }
   ],
   "source": [
    "x = 5\n",
    "x **= 10\n",
    "x"
   ]
  },
  {
   "cell_type": "code",
   "execution_count": 32,
   "id": "5d6ff086-e37c-4e60-a3c4-a1c73a94bb31",
   "metadata": {},
   "outputs": [
    {
     "data": {
      "text/plain": [
       "True"
      ]
     },
     "execution_count": 32,
     "metadata": {},
     "output_type": "execute_result"
    }
   ],
   "source": [
    "#membership operators\n",
    "x = \"krackofficer\"\n",
    "\"o\" in x"
   ]
  },
  {
   "cell_type": "code",
   "execution_count": 33,
   "id": "0480f2e5-6bc3-456f-a631-1b5b74722d91",
   "metadata": {},
   "outputs": [
    {
     "data": {
      "text/plain": [
       "False"
      ]
     },
     "execution_count": 33,
     "metadata": {},
     "output_type": "execute_result"
    }
   ],
   "source": [
    "\"1\" in x # since 1 is not present in krackofficer ,therefore false."
   ]
  },
  {
   "cell_type": "code",
   "execution_count": 34,
   "id": "34bae01d-a03e-4944-8497-0d2c6a8e6ede",
   "metadata": {},
   "outputs": [
    {
     "name": "stdout",
     "output_type": "stream",
     "text": [
      "True\n"
     ]
    }
   ],
   "source": [
    "my_list = [1, 2, 3]\n",
    "print(2 in my_list)  # Membership check\n",
    "\n",
    "\n"
   ]
  },
  {
   "cell_type": "code",
   "execution_count": 35,
   "id": "2fee9fcd-5226-4a6d-a163-117a3c2f0439",
   "metadata": {},
   "outputs": [],
   "source": [
    "#identity operators >> compares the location of two objects/variables"
   ]
  },
  {
   "cell_type": "code",
   "execution_count": 36,
   "id": "907331c6-432b-4ee4-bf83-af9f9d8f01fd",
   "metadata": {},
   "outputs": [
    {
     "name": "stdout",
     "output_type": "stream",
     "text": [
      "True\n"
     ]
    },
    {
     "name": "stderr",
     "output_type": "stream",
     "text": [
      "<>:2: SyntaxWarning: \"is not\" with a literal. Did you mean \"!=\"?\n",
      "<>:2: SyntaxWarning: \"is not\" with a literal. Did you mean \"!=\"?\n",
      "/tmp/ipykernel_84/676590866.py:2: SyntaxWarning: \"is not\" with a literal. Did you mean \"!=\"?\n",
      "  print(5 is not None)  # Identity check\n"
     ]
    }
   ],
   "source": [
    "my_list = [1, 2, 3]\n",
    "print(5 is not None)  # Identity check\n",
    "\n"
   ]
  },
  {
   "cell_type": "code",
   "execution_count": 37,
   "id": "247c7230-1f23-40aa-b4c7-6855ff7a9adf",
   "metadata": {},
   "outputs": [
    {
     "data": {
      "text/plain": [
       "True"
      ]
     },
     "execution_count": 37,
     "metadata": {},
     "output_type": "execute_result"
    }
   ],
   "source": [
    "a =3  #identity operators\n",
    "b = a\n",
    "a is b"
   ]
  },
  {
   "cell_type": "markdown",
   "id": "2b817756-801a-4e5a-85d3-c316dce44b69",
   "metadata": {},
   "source": [
    "#Bitwise Operators:\n",
    "\n",
    "#Perform bit-level operations.\n",
    "#Examples"
   ]
  },
  {
   "cell_type": "code",
   "execution_count": 38,
   "id": "e70bd372-0d94-45dd-93fd-64121df40afc",
   "metadata": {},
   "outputs": [
    {
     "name": "stdout",
     "output_type": "stream",
     "text": [
      "1\n",
      "7\n",
      "6\n"
     ]
    }
   ],
   "source": [
    "x = 5\n",
    "y = 3\n",
    "print(x & y)  # Bitwise AND\n",
    "print(x | y)  # Bitwise OR\n",
    "print(x ^ y)  # Bitwise XOR\n"
   ]
  },
  {
   "cell_type": "code",
   "execution_count": 39,
   "id": "553e17b5-4be1-485c-affc-25d52b126577",
   "metadata": {},
   "outputs": [
    {
     "data": {
      "text/plain": [
       "10"
      ]
     },
     "execution_count": 39,
     "metadata": {},
     "output_type": "execute_result"
    }
   ],
   "source": [
    "10 & 10 #bitwise &"
   ]
  },
  {
   "cell_type": "code",
   "execution_count": 40,
   "id": "dbffbef0-98aa-46e4-bdf9-a6f9c1d11033",
   "metadata": {},
   "outputs": [
    {
     "data": {
      "text/plain": [
       "'0b1010'"
      ]
     },
     "execution_count": 40,
     "metadata": {},
     "output_type": "execute_result"
    }
   ],
   "source": [
    "bin(10) #BINARY >> shows"
   ]
  },
  {
   "cell_type": "code",
   "execution_count": 41,
   "id": "64c2e627-19e2-4b49-b8ba-3b7fe5550acf",
   "metadata": {},
   "outputs": [
    {
     "data": {
      "text/plain": [
       "1"
      ]
     },
     "execution_count": 41,
     "metadata": {},
     "output_type": "execute_result"
    }
   ],
   "source": [
    "3 & 5"
   ]
  },
  {
   "cell_type": "code",
   "execution_count": 42,
   "id": "c3afcd8d-bc16-45f7-975d-9a6b23d8aa6b",
   "metadata": {},
   "outputs": [
    {
     "data": {
      "text/plain": [
       "'0b11'"
      ]
     },
     "execution_count": 42,
     "metadata": {},
     "output_type": "execute_result"
    }
   ],
   "source": [
    "bin(3)"
   ]
  },
  {
   "cell_type": "code",
   "execution_count": 43,
   "id": "364f3a67-362a-49ba-8080-23316f1f5bfe",
   "metadata": {},
   "outputs": [
    {
     "data": {
      "text/plain": [
       "'0b101'"
      ]
     },
     "execution_count": 43,
     "metadata": {},
     "output_type": "execute_result"
    }
   ],
   "source": [
    "bin(5)"
   ]
  },
  {
   "cell_type": "code",
   "execution_count": 44,
   "id": "903e2998-14f8-4818-aef6-3b40610369d6",
   "metadata": {},
   "outputs": [
    {
     "data": {
      "text/plain": [
       "'0b1'"
      ]
     },
     "execution_count": 44,
     "metadata": {},
     "output_type": "execute_result"
    }
   ],
   "source": [
    "bin(1)"
   ]
  },
  {
   "cell_type": "code",
   "execution_count": 45,
   "id": "c35fa245-6bdf-41cf-a8b3-25ddbd2c7ffe",
   "metadata": {},
   "outputs": [
    {
     "data": {
      "text/plain": [
       "-5"
      ]
     },
     "execution_count": 45,
     "metadata": {},
     "output_type": "execute_result"
    }
   ],
   "source": [
    "#negation\n",
    "~4"
   ]
  },
  {
   "cell_type": "code",
   "execution_count": 46,
   "id": "bbfbaff8-8328-4357-8e2b-ca768e05e570",
   "metadata": {},
   "outputs": [
    {
     "data": {
      "text/plain": [
       "-10"
      ]
     },
     "execution_count": 46,
     "metadata": {},
     "output_type": "execute_result"
    }
   ],
   "source": [
    "~9"
   ]
  },
  {
   "cell_type": "code",
   "execution_count": 47,
   "id": "4c10984a-70f7-43ec-8afb-610edf702d92",
   "metadata": {},
   "outputs": [
    {
     "data": {
      "text/plain": [
       "11"
      ]
     },
     "execution_count": 47,
     "metadata": {},
     "output_type": "execute_result"
    }
   ],
   "source": [
    "#bitwise xor\n",
    "8 ^ 3"
   ]
  },
  {
   "cell_type": "code",
   "execution_count": 48,
   "id": "526d695c-40eb-4727-9a78-d0a0e2212a4b",
   "metadata": {},
   "outputs": [
    {
     "data": {
      "text/plain": [
       "'0b1000'"
      ]
     },
     "execution_count": 48,
     "metadata": {},
     "output_type": "execute_result"
    }
   ],
   "source": [
    "bin(8)"
   ]
  },
  {
   "cell_type": "code",
   "execution_count": 49,
   "id": "1a6fc2cc-b3c7-4f5c-b676-80cfc5b54e57",
   "metadata": {},
   "outputs": [
    {
     "data": {
      "text/plain": [
       "'0b11'"
      ]
     },
     "execution_count": 49,
     "metadata": {},
     "output_type": "execute_result"
    }
   ],
   "source": [
    "bin(3)"
   ]
  },
  {
   "cell_type": "code",
   "execution_count": 50,
   "id": "a919dd83-23a1-4c86-889b-7a78bedd6cbd",
   "metadata": {},
   "outputs": [
    {
     "data": {
      "text/plain": [
       "'0b1011'"
      ]
     },
     "execution_count": 50,
     "metadata": {},
     "output_type": "execute_result"
    }
   ],
   "source": [
    "bin(11)"
   ]
  },
  {
   "cell_type": "markdown",
   "id": "d2ee027b-6a1e-451b-9056-d4c84c898e46",
   "metadata": {},
   "source": [
    "#Explain the concept of type casting in Python with examples?"
   ]
  },
  {
   "cell_type": "markdown",
   "id": "353f9175-319b-444e-9d82-886e9e41e6ef",
   "metadata": {},
   "source": [
    "#Type casting (also known as type conversion) in Python allows you to #change the data type of a variable from one type to another. It’s like #transforming a magical creature into a different form—sometimes subtle, #sometimes dramatic! "
   ]
  },
  {
   "cell_type": "markdown",
   "id": "68ae112e-b8e9-472a-bd91-f323e604c4ef",
   "metadata": {},
   "source": [
    "#Implicit Type Conversion (Automatic):\n",
    "In implicit type conversion, Python automatically converts one data type to another during an operation.\n",
    "For example:"
   ]
  },
  {
   "cell_type": "code",
   "execution_count": 52,
   "id": "731079ab-2830-497c-8709-6e26922abd90",
   "metadata": {},
   "outputs": [
    {
     "name": "stdout",
     "output_type": "stream",
     "text": [
      "10.0\n"
     ]
    }
   ],
   "source": [
    "# Implicit conversion: int to float\n",
    "a = 7\n",
    "b = 3.0\n",
    "c = a + b  # Python converts 'a' to float for the addition\n",
    "print(c)  # Output: 10.0\n"
   ]
  },
  {
   "cell_type": "markdown",
   "id": "526caaf9-04c4-43f2-909a-8b615b1b9b79",
   "metadata": {},
   "source": [
    "#Explicit Type Conversion (User-Driven):\n",
    "#Explicit type conversion requires user involvement. You explicitly #convert a variable from one type to another.\n",
    "#Common functions for explicit type conversion:\n",
    "#int(): Converts to an integer.\n",
    "#float(): Converts to a floating-point number.\n",
    "#str(): Converts to a string.\n",
    "#Examples of Explicit Type Casting"
   ]
  },
  {
   "cell_type": "code",
   "execution_count": 53,
   "id": "76033ff6-3873-4333-8b3f-415ca4d64c60",
   "metadata": {},
   "outputs": [
    {
     "name": "stdout",
     "output_type": "stream",
     "text": [
      "5.0\n"
     ]
    }
   ],
   "source": [
    "int_num = 5 #int to float\n",
    "float_num = float(int_num)\n",
    "print(float_num)  # Output: 5.0\n"
   ]
  },
  {
   "cell_type": "code",
   "execution_count": 54,
   "id": "108a0de0-1b8f-4ba2-8ab7-816147e7d107",
   "metadata": {},
   "outputs": [
    {
     "name": "stdout",
     "output_type": "stream",
     "text": [
      "5\n"
     ]
    }
   ],
   "source": [
    "float_num = 5.9  #float to int\n",
    "int_num = int(float_num)\n",
    "print(int_num)  # Output: 5\n"
   ]
  },
  {
   "cell_type": "code",
   "execution_count": 55,
   "id": "4c69b75f-00ee-4e49-b65e-6f4fd97b4901",
   "metadata": {},
   "outputs": [
    {
     "name": "stdout",
     "output_type": "stream",
     "text": [
      "5\n"
     ]
    }
   ],
   "source": [
    "int_value = 5  #int to string\n",
    "str_value = str(int_value)\n",
    "print(str_value)  # Output: '5'\n"
   ]
  },
  {
   "cell_type": "code",
   "execution_count": 59,
   "id": "24e2c646-dece-4af0-9196-a07d1390f9a7",
   "metadata": {},
   "outputs": [
    {
     "name": "stdout",
     "output_type": "stream",
     "text": [
      "5.9\n"
     ]
    }
   ],
   "source": [
    "str_number = \"5.9\"  #str to float\n",
    "float_value = float(str_number)\n",
    "print(float_value)  # Output: 5.9\n"
   ]
  },
  {
   "cell_type": "code",
   "execution_count": 60,
   "id": "185c8fc4-a848-4b50-90bb-b7b211b4351f",
   "metadata": {},
   "outputs": [
    {
     "data": {
      "text/plain": [
       "5"
      ]
     },
     "execution_count": 60,
     "metadata": {},
     "output_type": "execute_result"
    }
   ],
   "source": [
    "2+3"
   ]
  },
  {
   "cell_type": "code",
   "execution_count": 61,
   "id": "53672f00-7779-4730-bc54-2faf5b11e26e",
   "metadata": {},
   "outputs": [
    {
     "ename": "TypeError",
     "evalue": "can only concatenate str (not \"int\") to str",
     "output_type": "error",
     "traceback": [
      "\u001b[0;31m---------------------------------------------------------------------------\u001b[0m",
      "\u001b[0;31mTypeError\u001b[0m                                 Traceback (most recent call last)",
      "Cell \u001b[0;32mIn[61], line 1\u001b[0m\n\u001b[0;32m----> 1\u001b[0m \u001b[38;5;124;43m\"\u001b[39;49m\u001b[38;5;124;43m2\u001b[39;49m\u001b[38;5;124;43m\"\u001b[39;49m\u001b[43m \u001b[49m\u001b[38;5;241;43m+\u001b[39;49m\u001b[43m \u001b[49m\u001b[38;5;241;43m3\u001b[39;49m\n",
      "\u001b[0;31mTypeError\u001b[0m: can only concatenate str (not \"int\") to str"
     ]
    }
   ],
   "source": [
    "\"2\" + 3 #String to Int (with Error Handling):"
   ]
  },
  {
   "cell_type": "code",
   "execution_count": 62,
   "id": "48ade9b6-d1e7-4bd3-b6e1-3f52c06e301a",
   "metadata": {},
   "outputs": [
    {
     "data": {
      "text/plain": [
       "str"
      ]
     },
     "execution_count": 62,
     "metadata": {},
     "output_type": "execute_result"
    }
   ],
   "source": [
    "type(\"2\")"
   ]
  },
  {
   "cell_type": "markdown",
   "id": "1c4ab966-49cb-4aa4-86e9-925c173fe887",
   "metadata": {},
   "source": [
    "#How do conditional statements work in Python? Illustrate with examples?                  "
   ]
  },
  {
   "cell_type": "markdown",
   "id": "a8c29116-510b-4ec8-b3be-78de011ba130",
   "metadata": {},
   "source": [
    "#The statements allow your code to make decisions based on certain #conditions or help you to code decisions based on some preconditions—#like a wizard choosing between different spells! \n",
    "\n",
    "#The basics of if, elif, and else statements, as well as #Python’s #ternary operator. Buckle up, aspiring sorcerer, and let’s dive \n",
    "#into some code examples! "
   ]
  },
  {
   "cell_type": "markdown",
   "id": "3454c9fe-be04-47de-98e1-bb755aed3c96",
   "metadata": {},
   "source": [
    "#The if Statement:\n",
    "#The if statement allows you to execute a block of code only if a #certain condition is true. Here’s the basic structure:"
   ]
  },
  {
   "cell_type": "code",
   "execution_count": 65,
   "id": "4166b067-c290-4229-a205-ab4baa235a84",
   "metadata": {},
   "outputs": [
    {
     "name": "stdout",
     "output_type": "stream",
     "text": [
      "i will take bath \n"
     ]
    }
   ],
   "source": [
    " #if condition\n",
    "\n",
    "weather = \"sunny\"\n",
    "if weather == \"sunny\": #execute the if block , if the condition is true.\n",
    "    print(\"i will take bath \") #indentation is necessary here.\n"
   ]
  },
  {
   "cell_type": "code",
   "execution_count": 66,
   "id": "95f8ed1f-54ef-48bd-b619-90ef8fedbf43",
   "metadata": {},
   "outputs": [
    {
     "name": "stdout",
     "output_type": "stream",
     "text": [
      "7 is odd.\n"
     ]
    }
   ],
   "source": [
    "number = 7   #Checking if a Number Is Even or Odd\n",
    "if number % 2 == 0:\n",
    "    print(f\"{number} is even.\")\n",
    "else:\n",
    "    print(f\"{number} is odd.\")\n"
   ]
  },
  {
   "cell_type": "code",
   "execution_count": 67,
   "id": "c2dccc0b-243e-4780-960e-e8233dc66a59",
   "metadata": {},
   "outputs": [
    {
     "name": "stdout",
     "output_type": "stream",
     "text": [
      "this number belongs to krackofficer\n"
     ]
    }
   ],
   "source": [
    "#in real life , decision are made based on multiple conditions\n",
    "number = 54\n",
    "if ((number % 2 == 0) & (number > 0)):\n",
    "    print(\"this number belongs to krackofficer\")\n",
    "    "
   ]
  },
  {
   "cell_type": "code",
   "execution_count": 68,
   "id": "40ce3834-e4cd-4bd5-a035-401e0c42dd11",
   "metadata": {},
   "outputs": [],
   "source": [
    "#in real life ,if one condition is not fulfilled,i will do something else\n",
    "#example : if weather is not sunny i will not go to take bath else i will sleep."
   ]
  },
  {
   "cell_type": "code",
   "execution_count": 70,
   "id": "326e59c4-bd87-4564-869e-0c8700e7ee23",
   "metadata": {},
   "outputs": [
    {
     "name": "stdout",
     "output_type": "stream",
     "text": [
      "i will not take bath \n"
     ]
    }
   ],
   "source": [
    "#if else >> execute the if block when the condition is true else \n",
    "#execute the else block\n",
    "weather = \"sunny\"\n",
    "if weather == \"sunny\": #condition is true ,execute if block\n",
    "    print(\"i will not take bath \") \n",
    "else:  #if condition not true , execute else block\n",
    "    print(\"i will sleep\" )    \n",
    "    "
   ]
  },
  {
   "cell_type": "code",
   "execution_count": 75,
   "id": "c3775abf-dc47-40e3-95f4-8ccf8deb5a8c",
   "metadata": {},
   "outputs": [
    {
     "name": "stdout",
     "output_type": "stream",
     "text": [
      "he is the boss\n"
     ]
    }
   ],
   "source": [
    "well_dressed = \"zero\"\n",
    "if well_dressed != \"hero\":\n",
    "    print(\"he is the boss\")\n",
    "else:\n",
    "    print(\"he is joker\")"
   ]
  },
  {
   "cell_type": "code",
   "execution_count": 76,
   "id": "1261d20a-2475-4197-995a-788698fda05e",
   "metadata": {},
   "outputs": [],
   "source": [
    "#else if condition\n",
    "#Sometimes you need to check multiple conditions. \n",
    "#That’s where elif (short for “else if”) comes in:\n",
    "if condition1:\n",
    "    # Code for condition1\n",
    "elif condition2:\n",
    "    # Code for condition2\n",
    "else:\n",
    "    # Code if none of the conditions are true\n"
   ]
  },
  {
   "cell_type": "code",
   "execution_count": 77,
   "id": "295f6bfb-243a-402e-b64a-858aecff7781",
   "metadata": {},
   "outputs": [
    {
     "name": "stdout",
     "output_type": "stream",
     "text": [
      "B\n"
     ]
    }
   ],
   "source": [
    "#Assigning a Letter Grade Based on a Numerical Score\n",
    "score = 85\n",
    "if score >= 90:\n",
    "    print(\"A\")\n",
    "elif score >= 80:\n",
    "    print(\"B\")\n",
    "elif score >= 70:\n",
    "    print(\"C\")\n",
    "else:\n",
    "    print(\"F\")\n"
   ]
  },
  {
   "cell_type": "code",
   "execution_count": 86,
   "id": "19b9fcbe-3d35-4cf9-9b8e-6f096e776078",
   "metadata": {},
   "outputs": [
    {
     "name": "stdout",
     "output_type": "stream",
     "text": [
      "x is not greater than 5\n"
     ]
    }
   ],
   "source": [
    "#Nested if else condition >> multiple if else inside if else\n",
    "x = 1\n",
    "y = 6\n",
    "if x > 5:\n",
    "    if y > 5:\n",
    "        print (\"both x and y greater than 5\")\n",
    "    else:\n",
    "        print (\" x is greater than 5 but y is less than 5\")\n",
    "else:\n",
    "    print(\"x is not greater than 5\")\n",
    "        \n",
    "        \n",
    "  \n",
    "        "
   ]
  },
  {
   "cell_type": "code",
   "execution_count": 3,
   "id": "1da42cd4-1842-48ad-ab69-ac9e63cb0205",
   "metadata": {},
   "outputs": [
    {
     "name": "stdout",
     "output_type": "stream",
     "text": [
      "u r senior citizen\n"
     ]
    }
   ],
   "source": [
    "\n",
    "\n",
    "age = 90\n",
    "if age < 18:\n",
    "    print( \"u r minor\")\n",
    "elif 18<age<=65:\n",
    "    print(\"u r adult\")\n",
    "else:\n",
    "    print (\"u r senior citizen\")\n"
   ]
  },
  {
   "cell_type": "code",
   "execution_count": 9,
   "id": "1b969248-5fee-42d0-8910-b4d6bb4e5b83",
   "metadata": {},
   "outputs": [
    {
     "name": "stdin",
     "output_type": "stream",
     "text": [
      "enter a no. 89\n"
     ]
    },
    {
     "name": "stdout",
     "output_type": "stream",
     "text": [
      "the no. is 89\n"
     ]
    }
   ],
   "source": [
    "a = input (\"enter a no.\") # by default input treats everything as string\n",
    "print(\"the no. is\",a)\n",
    "\n"
   ]
  },
  {
   "cell_type": "code",
   "execution_count": 10,
   "id": "2144fc70-7869-42e9-b509-be17dfd31d4d",
   "metadata": {},
   "outputs": [
    {
     "data": {
      "text/plain": [
       "str"
      ]
     },
     "execution_count": 10,
     "metadata": {},
     "output_type": "execute_result"
    }
   ],
   "source": [
    "type(a)"
   ]
  },
  {
   "cell_type": "raw",
   "id": "fabbf820-1031-46a3-b13f-5220d00ef84a",
   "metadata": {},
   "source": [
    "a = int(input (\"enter a no.\")) \n",
    "print(\"the no. is\",a)\n"
   ]
  },
  {
   "cell_type": "code",
   "execution_count": null,
   "id": "cdc7d402-3225-4fd7-9b93-c6e93a9b00d8",
   "metadata": {},
   "outputs": [],
   "source": []
  },
  {
   "cell_type": "raw",
   "id": "4263251f-9a19-4267-a99d-757a7e4f22f4",
   "metadata": {},
   "source": [
    "type(a)"
   ]
  },
  {
   "cell_type": "code",
   "execution_count": 31,
   "id": "129ee8de-e893-49de-9252-e7014975df38",
   "metadata": {},
   "outputs": [
    {
     "name": "stdin",
     "output_type": "stream",
     "text": [
      "please write your name here arvind singh\n",
      "please enter your email id krackofficer@gmail.com\n",
      "please enter your password krackofficer123\n"
     ]
    },
    {
     "name": "stdout",
     "output_type": "stream",
     "text": [
      "login succesfully\n"
     ]
    }
   ],
   "source": [
    "\n",
    "name = input(\"please write your name here\")\n",
    "email = input(\"please enter your email id\")\n",
    "password = input(\"please enter your password\")\n",
    "\n",
    "if name == \"\":\n",
    "    print(\"please neter valid name,can't be empty\")\n",
    "else:\n",
    "    if \"@\" not in email:\n",
    "        print(\"please enter a valid email\")\n",
    "    else: \n",
    "        if len(password) <0:\n",
    "            print(\"please enter a valid password\")\n",
    "        else:\n",
    "            print(\"login succesfully\")\n",
    "            \n",
    "            \n",
    "            \n",
    "        \n",
    "    \n"
   ]
  },
  {
   "cell_type": "markdown",
   "id": "ec2dfd97-de6c-45f7-9aa6-cb05d2dbf7da",
   "metadata": {},
   "source": [
    "#Describe the different types of loops in Python and their use cases with examples?"
   ]
  },
  {
   "cell_type": "markdown",
   "id": "07f96694-af1c-4804-b240-8eec14442c1b",
   "metadata": {},
   "source": [
    "#loops >> it allows you to execute a block of code repeatedly.\n",
    "#In Python, we have two primary types of loops: for loops and #while #loops. Each has its own purpose and use cases"
   ]
  },
  {
   "cell_type": "markdown",
   "id": "ea9c1b91-83fe-4710-8698-fff73f35dfcf",
   "metadata": {},
   "source": [
    "#while loops >> repeatedly executed a block of code until a condition is #met"
   ]
  },
  {
   "cell_type": "code",
   "execution_count": 34,
   "id": "1af3c74c-af79-4240-baf9-b7cd57b5ba1b",
   "metadata": {},
   "outputs": [
    {
     "name": "stdout",
     "output_type": "stream",
     "text": [
      "1\n",
      "2\n",
      "3\n",
      "4\n",
      "5\n"
     ]
    }
   ],
   "source": [
    "# Printing Numbers from 1 to 5\n",
    "i = 1\n",
    "while i <= 5:\n",
    "    print(i)\n",
    "    i += 1\n",
    "# Output: 1, 2, 3, 4, 5\n"
   ]
  },
  {
   "cell_type": "code",
   "execution_count": 37,
   "id": "243d27b0-ee39-4ca6-b533-8c7b06e0e46c",
   "metadata": {},
   "outputs": [
    {
     "name": "stdout",
     "output_type": "stream",
     "text": [
      "1\n",
      "2\n",
      "3\n",
      "4\n",
      "5\n",
      "6\n",
      "this will be executed when the while is run successfully without any break\n"
     ]
    }
   ],
   "source": [
    "n =7\n",
    "i =1\n",
    "while i < n:\n",
    "        print(i)\n",
    "        i= i+1\n",
    "else:\n",
    "    print(\"this will be executed when the while is run successfully without any break\")\n",
    "    \n",
    "        \n",
    "        \n",
    "        \n"
   ]
  },
  {
   "cell_type": "markdown",
   "id": "f69d5033-0a97-428e-ba7b-97fbb7556792",
   "metadata": {},
   "source": [
    "#Use Cases for while Loops:\n",
    "\n",
    "#When you don’t know the exact number of iterations beforehand.\n",
    "#Implementing infinite loops (with caution).\n"
   ]
  },
  {
   "cell_type": "markdown",
   "id": "ad2d0dbd-78cd-4704-a3f3-b3fec6559012",
   "metadata": {},
   "source": [
    "###for Loops:\n",
    "The for loop iterates over a given sequence \n",
    "#(such as a list, tuple, or string).\n",
    "#It’s like having a magical scroll that unfolds one element at a time."
   ]
  },
  {
   "cell_type": "code",
   "execution_count": 39,
   "id": "d959e22e-7baf-4e49-82d4-d2390d532508",
   "metadata": {},
   "outputs": [
    {
     "name": "stdout",
     "output_type": "stream",
     "text": [
      "2\n",
      "3\n",
      "5\n",
      "7\n"
     ]
    }
   ],
   "source": [
    "primes = [2, 3, 5, 7] #printing prime no.\n",
    "for prime in primes:\n",
    "    print(prime)\n",
    "# Output: 2, 3, 5, 7\n"
   ]
  },
  {
   "cell_type": "markdown",
   "id": "02b9c3d8-3b62-4d58-8881-3233b79d9802",
   "metadata": {},
   "source": [
    "#Use Cases for for Loops:\n",
    "\n",
    "#Iterating over elements in a collection (e.g., lists, tuples, strings).\n",
    "#Enumerating items with their indices.\n",
    "#Generating sequences (e.g., using range())."
   ]
  },
  {
   "cell_type": "code",
   "execution_count": 40,
   "id": "14e5f3b8-851b-4b9e-b491-2a620506c8e7",
   "metadata": {},
   "outputs": [],
   "source": [
    "#Nested Loops:\n",
    "#You can combine loops within loops—like casting multiple \n",
    "#spells simultaneously!"
   ]
  },
  {
   "cell_type": "code",
   "execution_count": 41,
   "id": "c4f284f4-20ed-4ba9-be7f-21e7682f7137",
   "metadata": {},
   "outputs": [
    {
     "name": "stdout",
     "output_type": "stream",
     "text": [
      "1\t2\t3\t4\t5\t\n",
      "2\t4\t6\t8\t10\t\n",
      "3\t6\t9\t12\t15\t\n",
      "4\t8\t12\t16\t20\t\n",
      "5\t10\t15\t20\t25\t\n"
     ]
    }
   ],
   "source": [
    "for i in range(1, 6):  # Multiplication Table\n",
    "    for j in range(1, 6):\n",
    "        print(i * j, end=\"\\t\")\n",
    "    print()  # Move to the next row\n",
    "\n"
   ]
  },
  {
   "cell_type": "code",
   "execution_count": 42,
   "id": "a8a17be5-2fd9-4cd3-b602-a9e782c67f21",
   "metadata": {},
   "outputs": [],
   "source": [
    "#Use Cases for Nested Loops:\n",
    "\n",
    "#Working with 2D data (e.g., matrices, grids).\n",
    "#Exploring combinations and permutations."
   ]
  },
  {
   "cell_type": "markdown",
   "id": "3072369a-4fc6-4cae-a834-a40703304105",
   "metadata": {},
   "source": [
    "###THANKS FOR THE LOVELY ASSIGNMENT !"
   ]
  },
  {
   "cell_type": "code",
   "execution_count": null,
   "id": "21046c57-a51f-44e5-bcb4-69c246ad485b",
   "metadata": {},
   "outputs": [],
   "source": []
  }
 ],
 "metadata": {
  "kernelspec": {
   "display_name": "Python 3 (ipykernel)",
   "language": "python",
   "name": "python3"
  },
  "language_info": {
   "codemirror_mode": {
    "name": "ipython",
    "version": 3
   },
   "file_extension": ".py",
   "mimetype": "text/x-python",
   "name": "python",
   "nbconvert_exporter": "python",
   "pygments_lexer": "ipython3",
   "version": "3.10.8"
  }
 },
 "nbformat": 4,
 "nbformat_minor": 5
}
